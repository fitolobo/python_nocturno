{
 "cells": [
  {
   "cell_type": "code",
   "execution_count": 2,
   "metadata": {},
   "outputs": [],
   "source": [
    "from datetime import date\n",
    "from datetime import datetime\n",
    "from datetime import timedelta"
   ]
  },
  {
   "cell_type": "code",
   "execution_count": 3,
   "metadata": {},
   "outputs": [],
   "source": [
    "f = date.today()\n",
    "df = f.day\n",
    "mf = f.month\n",
    "af = f.year\n",
    "\n",
    "dd = datetime(af, mf, df, 8, 30, 00, 000000)"
   ]
  },
  {
   "cell_type": "code",
   "execution_count": 4,
   "metadata": {},
   "outputs": [
    {
     "data": {
      "text/plain": [
       "datetime.datetime(2022, 2, 6, 8, 30)"
      ]
     },
     "execution_count": 4,
     "metadata": {},
     "output_type": "execute_result"
    }
   ],
   "source": [
    "dd"
   ]
  },
  {
   "cell_type": "code",
   "execution_count": 5,
   "metadata": {},
   "outputs": [
    {
     "name": "stdout",
     "output_type": "stream",
     "text": [
      "2022-02-06 08:30:00\n"
     ]
    }
   ],
   "source": [
    "fini = dd\n",
    "\n",
    "with open('horas.txt', 'w') as f:\n",
    "    f.write(str(fini))\n",
    "    f.close()\n",
    "\n",
    "    print(fini)\n"
   ]
  },
  {
   "cell_type": "code",
   "execution_count": 7,
   "metadata": {},
   "outputs": [
    {
     "name": "stdin",
     "output_type": "stream",
     "text": [
      "Inserte codigo:  TENGOSE\n"
     ]
    }
   ],
   "source": [
    "#Primera tarea despues de 8:30\n",
    "codigo = input('Inserte codigo: ')\n",
    "hini = open('horas.txt', 'r')\n",
    "l_ini = hini.readline()\n",
    "hini.close()"
   ]
  },
  {
   "cell_type": "code",
   "execution_count": 9,
   "metadata": {},
   "outputs": [],
   "source": [
    "hact = datetime.today()\n",
    "hact_for = \"%a-%d-%b\"\n",
    "format_data = \"%Y-%m-%d %H:%M:%S\"\n",
    "fh_act = hact.strftime(hact_for)\n",
    "\n",
    "lini = datetime.strptime(l_ini, format_data)"
   ]
  },
  {
   "cell_type": "code",
   "execution_count": 10,
   "metadata": {},
   "outputs": [
    {
     "data": {
      "text/plain": [
       "datetime.datetime(2022, 2, 6, 8, 30)"
      ]
     },
     "execution_count": 10,
     "metadata": {},
     "output_type": "execute_result"
    }
   ],
   "source": [
    "lini"
   ]
  },
  {
   "cell_type": "code",
   "execution_count": 11,
   "metadata": {},
   "outputs": [],
   "source": [
    "deltah = hact - lini"
   ]
  },
  {
   "cell_type": "code",
   "execution_count": 12,
   "metadata": {},
   "outputs": [
    {
     "data": {
      "text/plain": [
       "datetime.timedelta(days=-1, seconds=63267, microseconds=202002)"
      ]
     },
     "execution_count": 12,
     "metadata": {},
     "output_type": "execute_result"
    }
   ],
   "source": [
    "deltah"
   ]
  },
  {
   "cell_type": "code",
   "execution_count": 13,
   "metadata": {},
   "outputs": [],
   "source": [
    "td_sec = timedelta.total_seconds(deltah)"
   ]
  },
  {
   "cell_type": "code",
   "execution_count": 14,
   "metadata": {},
   "outputs": [
    {
     "data": {
      "text/plain": [
       "-23132.797998"
      ]
     },
     "execution_count": 14,
     "metadata": {},
     "output_type": "execute_result"
    }
   ],
   "source": [
    "td_sec"
   ]
  },
  {
   "cell_type": "code",
   "execution_count": 16,
   "metadata": {},
   "outputs": [
    {
     "name": "stdout",
     "output_type": "stream",
     "text": [
      "['Sun-06-Feb', 'TENGOSE', -6.43]\n"
     ]
    }
   ],
   "source": [
    "w_sec = round((td_sec/60)/60, 2)\n",
    "\n",
    "n_work = [fh_act, codigo, w_sec]\n",
    "f = open('horas.txt', 'a')\n",
    "f.write('\\n')\n",
    "f.write(str(n_work))\n",
    "f.close()\n",
    "print(n_work)"
   ]
  },
  {
   "cell_type": "code",
   "execution_count": null,
   "metadata": {},
   "outputs": [],
   "source": []
  }
 ],
 "metadata": {
  "interpreter": {
   "hash": "397b70f0465ddb73a1b18dfbc64651aa4e0eaf381a479d42b611403a67b42645"
  },
  "kernelspec": {
   "display_name": "Python 3",
   "language": "python",
   "name": "python3"
  },
  "language_info": {
   "codemirror_mode": {
    "name": "ipython",
    "version": 3
   },
   "file_extension": ".py",
   "mimetype": "text/x-python",
   "name": "python",
   "nbconvert_exporter": "python",
   "pygments_lexer": "ipython3",
   "version": "3.8.8"
  }
 },
 "nbformat": 4,
 "nbformat_minor": 4
}
