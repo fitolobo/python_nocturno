{
 "cells": [
  {
   "cell_type": "markdown",
   "id": "9b7320ca-7d3f-4189-a872-30fca56eba29",
   "metadata": {},
   "source": [
    "# Mi primer Notebook\n",
    "\n",
    "\n",
    "Aquí voy a sumar $x$ e $y\\in \\mathbb{R}$\n",
    "\n",
    " - hola\n",
    " - chau\n",
    " \n",
    " ```python\n",
    "def suma_dos_numeros(x,y):\n",
    "\n",
    "    suma = x + y\n",
    "\n",
    "    return suma\n",
    "\n",
    "```"
   ]
  },
  {
   "cell_type": "code",
   "execution_count": 1,
   "id": "7f741788-4436-482f-80c7-22f007c05234",
   "metadata": {},
   "outputs": [
    {
     "name": "stdout",
     "output_type": "stream",
     "text": [
      "5\n"
     ]
    }
   ],
   "source": [
    "x = 3\n",
    "y = 2\n",
    "\n",
    "print(x+y)"
   ]
  },
  {
   "cell_type": "code",
   "execution_count": 2,
   "id": "1f30dbbf-6936-43b8-9f17-5b8d1c6a5ab7",
   "metadata": {},
   "outputs": [
    {
     "data": {
      "text/plain": [
       "1"
      ]
     },
     "execution_count": 2,
     "metadata": {},
     "output_type": "execute_result"
    }
   ],
   "source": [
    "x - y"
   ]
  },
  {
   "cell_type": "code",
   "execution_count": 6,
   "id": "1b99c376-8feb-4f17-b399-34c29b0b6af7",
   "metadata": {},
   "outputs": [],
   "source": [
    "def suma_dos_numeros(x,y):\n",
    "    return (x + y)**2"
   ]
  },
  {
   "cell_type": "code",
   "execution_count": 7,
   "id": "e1ac278c-6155-4007-972a-7dfa5afc4f54",
   "metadata": {},
   "outputs": [
    {
     "data": {
      "text/plain": [
       "81"
      ]
     },
     "execution_count": 7,
     "metadata": {},
     "output_type": "execute_result"
    }
   ],
   "source": [
    "suma_dos_numeros(4,5)"
   ]
  },
  {
   "cell_type": "code",
   "execution_count": 8,
   "id": "54ee881c-38e7-44c2-9c6d-7ac0001f4507",
   "metadata": {},
   "outputs": [
    {
     "name": "stdout",
     "output_type": "stream",
     "text": [
      "Requirement already satisfied: python-math in /Users/rodolfo.lobo/opt/anaconda3/lib/python3.8/site-packages (0.0.1)\n"
     ]
    }
   ],
   "source": [
    "!pip install python-math"
   ]
  },
  {
   "cell_type": "code",
   "execution_count": 11,
   "id": "4e54affe-7ae5-42db-9a14-ba9cd73c4a77",
   "metadata": {},
   "outputs": [],
   "source": [
    "import math as m"
   ]
  },
  {
   "cell_type": "code",
   "execution_count": 12,
   "id": "79529397-70d7-418b-a702-9556223c409d",
   "metadata": {},
   "outputs": [
    {
     "data": {
      "text/plain": [
       "1.2246467991473532e-16"
      ]
     },
     "execution_count": 12,
     "metadata": {},
     "output_type": "execute_result"
    }
   ],
   "source": [
    "m.sin(m.pi)"
   ]
  },
  {
   "cell_type": "code",
   "execution_count": 15,
   "id": "37bad50e-42b4-4b28-9e4a-e1685d825a1f",
   "metadata": {},
   "outputs": [],
   "source": [
    "m = 2"
   ]
  },
  {
   "cell_type": "code",
   "execution_count": 14,
   "id": "510e7a89-c311-4bb7-861a-d52582e01977",
   "metadata": {},
   "outputs": [
    {
     "data": {
      "text/plain": [
       "2"
      ]
     },
     "execution_count": 14,
     "metadata": {},
     "output_type": "execute_result"
    }
   ],
   "source": [
    "m"
   ]
  },
  {
   "cell_type": "code",
   "execution_count": null,
   "id": "e2c939af-5344-43cc-967f-08ffe2241336",
   "metadata": {},
   "outputs": [],
   "source": []
  }
 ],
 "metadata": {
  "kernelspec": {
   "display_name": "Python 3",
   "language": "python",
   "name": "python3"
  },
  "language_info": {
   "codemirror_mode": {
    "name": "ipython",
    "version": 3
   },
   "file_extension": ".py",
   "mimetype": "text/x-python",
   "name": "python",
   "nbconvert_exporter": "python",
   "pygments_lexer": "ipython3",
   "version": "3.8.8"
  }
 },
 "nbformat": 4,
 "nbformat_minor": 5
}
