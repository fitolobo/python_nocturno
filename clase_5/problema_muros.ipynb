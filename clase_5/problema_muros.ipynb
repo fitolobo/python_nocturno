{
 "cells": [
  {
   "cell_type": "code",
   "execution_count": 3,
   "id": "540aa532-b7cb-4ec5-8f8b-01f95bacbc60",
   "metadata": {},
   "outputs": [],
   "source": [
    "import numpy as np\n",
    "import pandas as pd\n",
    "import matplotlib.pyplot as plt"
   ]
  },
  {
   "cell_type": "code",
   "execution_count": 8,
   "id": "cfa7c29c-462f-404c-b1ff-57df8d56e9c2",
   "metadata": {},
   "outputs": [],
   "source": [
    "x = np.linspace(1,100,100)\n",
    "y = 1.5*x + 2\n",
    "z = 0.5*x -1"
   ]
  },
  {
   "cell_type": "code",
   "execution_count": 20,
   "id": "1ce8119e-cc86-4e51-bfac-ff6d7f5267e4",
   "metadata": {},
   "outputs": [
    {
     "data": {
      "text/plain": [
       "<matplotlib.legend.Legend at 0x7f87e85209a0>"
      ]
     },
     "execution_count": 20,
     "metadata": {},
     "output_type": "execute_result"
    },
    {
     "data": {
      "image/png": "[encoded data removed]",
      "text/plain": [
       "<Figure size 432x288 with 1 Axes>"
      ]
     },
     "metadata": {
      "needs_background": "light"
     },
     "output_type": "display_data"
    }
   ],
   "source": [
    "plt.plot(x,y)\n",
    "plt.plot(x,z)\n",
    "plt.legend(['superior','inferior'])"
   ]
  },
  {
   "cell_type": "code",
   "execution_count": 21,
   "id": "2aeb95e2-8181-497a-abff-b65cfe4545d6",
   "metadata": {},
   "outputs": [],
   "source": [
    "superior = np.asarray([x,y])\n",
    "inferior =  np.asarray([x,z])"
   ]
  },
  {
   "cell_type": "code",
   "execution_count": 22,
   "id": "91c3263e-8eef-43eb-a21c-053d3069e085",
   "metadata": {},
   "outputs": [
    {
     "data": {
      "text/plain": [
       "(2, 100)"
      ]
     },
     "execution_count": 22,
     "metadata": {},
     "output_type": "execute_result"
    }
   ],
   "source": [
    "superior.shape"
   ]
  },
  {
   "cell_type": "code",
   "execution_count": 17,
   "id": "316a92e6-5bd8-45fc-ab30-140ea18f6ee3",
   "metadata": {},
   "outputs": [
    {
     "data": {
      "text/plain": [
       "152.0"
      ]
     },
     "execution_count": 17,
     "metadata": {},
     "output_type": "execute_result"
    }
   ],
   "source": [
    "min(coord_1[0,:])\n",
    "max(coord_1[1,:])"
   ]
  },
  {
   "cell_type": "markdown",
   "id": "615567e2-87a8-461a-9a6a-4d9bf1b7fb3f",
   "metadata": {},
   "source": [
    "Calcular la distancia entre el punto mas bajo y mas alto del principio y el final del puente. "
   ]
  },
  {
   "cell_type": "code",
   "execution_count": 26,
   "id": "d3c7dc88-0fa2-4506-b5a5-2fdd33e90ff6",
   "metadata": {},
   "outputs": [],
   "source": [
    "margen = 1"
   ]
  },
  {
   "cell_type": "code",
   "execution_count": 28,
   "id": "cd0a82be-de6e-4fcc-8501-8640c002d9eb",
   "metadata": {},
   "outputs": [
    {
     "data": {
      "text/plain": [
       "5.0"
      ]
     },
     "execution_count": 28,
     "metadata": {},
     "output_type": "execute_result"
    }
   ],
   "source": [
    "superior[:,0][1] - (inferior[:,0][1] - margen)"
   ]
  },
  {
   "cell_type": "markdown",
   "id": "50b6cb64-c391-4e4f-8205-1cb0fa6c6e12",
   "metadata": {},
   "source": [
    "Elijo dos puntos $(x_1,y_1)$ y $(x_2,y_2)$\n",
    "\n",
    "$pendiente = \\dfrac{y_1 - y_2}{ x_1 - x_2}$\n",
    "\n",
    "La ecuación de la recta que une esos dos puntos es:\n",
    "\n",
    "$\\dfrac{y - y_1}{x - x_1} = pendiente$\n",
    "\n",
    "\n",
    "Ejemplo:\n",
    "\n",
    "$y =\\dfrac{3.5 + 0.5}{1 - 1} = \\infty $"
   ]
  },
  {
   "cell_type": "code",
   "execution_count": null,
   "id": "0737ae32-611c-442e-95fc-e817e97b97f4",
   "metadata": {},
   "outputs": [],
   "source": [
    "3.5 - -0.5 = 4"
   ]
  }
 ],
 "metadata": {
  "kernelspec": {
   "display_name": "Python 3",
   "language": "python",
   "name": "python3"
  },
  "language_info": {
   "codemirror_mode": {
    "name": "ipython",
    "version": 3
   },
   "file_extension": ".py",
   "mimetype": "text/x-python",
   "name": "python",
   "nbconvert_exporter": "python",
   "pygments_lexer": "ipython3",
   "version": "3.8.8"
  }
 },
 "nbformat": 4,
 "nbformat_minor": 5
}
