{
 "cells": [
  {
   "cell_type": "code",
   "execution_count": 1,
   "id": "0c9566e0-a53a-4eb6-a93f-3c1304b6d0e5",
   "metadata": {},
   "outputs": [],
   "source": [
    "import pandas as pd\n",
    "import numpy as np"
   ]
  },
  {
   "cell_type": "markdown",
   "id": "d0bcee38-e791-4f5e-a8a8-07119922dd4f",
   "metadata": {},
   "source": [
    "## Introducción a Clases"
   ]
  },
  {
   "cell_type": "code",
   "execution_count": 37,
   "id": "92ea6c45-502a-4f52-977b-f9547890d7a3",
   "metadata": {},
   "outputs": [],
   "source": [
    "def funcion(x,y):\n",
    "    z = x + y\n",
    "    return z"
   ]
  },
  {
   "cell_type": "code",
   "execution_count": 38,
   "id": "901e9971-9fab-4b07-bf5f-5e8e74eb3a08",
   "metadata": {},
   "outputs": [
    {
     "data": {
      "text/plain": [
       "5"
      ]
     },
     "execution_count": 38,
     "metadata": {},
     "output_type": "execute_result"
    }
   ],
   "source": [
    "funcion(2,3)"
   ]
  },
  {
   "cell_type": "code",
   "execution_count": 60,
   "id": "000a62cc-a96b-4254-9d49-0ae4a7fc9bf7",
   "metadata": {},
   "outputs": [],
   "source": [
    "class Gato:  #clase\n",
    "    def __init__(self,name,edad):   # inicializacion (propia de python y se ejecuta automaticamente)\n",
    "        self.name = name            # atributos\n",
    "        self.edad = edad\n",
    "    \n",
    "    @staticmethod   #creando un metodo estatico, no tiene self!\n",
    "    def collar(x):\n",
    "        if x == True:\n",
    "            print(f\" tiene collar\")\n",
    "        \n",
    "    def nombre(self):               #metodos de la clase\n",
    "        print(f\"El gato se llama {self.name}\")\n",
    "        \n",
    "    def sentarse(self):\n",
    "        print(f\"Simula que {self.name} se esta sentando\")\n",
    "        \n",
    "    def qedad(self):\n",
    "        print(f\"{self.name} tiene {self.edad}\")"
   ]
  },
  {
   "cell_type": "code",
   "execution_count": 61,
   "id": "b1225d61-8732-404e-830b-bc6c6d8da75e",
   "metadata": {},
   "outputs": [],
   "source": [
    "Gato_1 = Gato(\"michi\",\"2 meses\")"
   ]
  },
  {
   "cell_type": "code",
   "execution_count": 62,
   "id": "91a68140-946e-40d8-9819-bc265ef45df3",
   "metadata": {},
   "outputs": [
    {
     "data": {
      "text/plain": [
       "<__main__.Gato at 0x7f83f5a95820>"
      ]
     },
     "execution_count": 62,
     "metadata": {},
     "output_type": "execute_result"
    }
   ],
   "source": [
    "Gato_1"
   ]
  },
  {
   "cell_type": "code",
   "execution_count": 63,
   "id": "5ca4efbe-afbf-4242-8506-5f9261c49ecd",
   "metadata": {},
   "outputs": [
    {
     "name": "stdout",
     "output_type": "stream",
     "text": [
      "El gato se llama michi\n"
     ]
    }
   ],
   "source": [
    "Gato_1.nombre()"
   ]
  },
  {
   "cell_type": "code",
   "execution_count": 58,
   "id": "658043f3-01ab-41ab-9cd8-9f59677b1df7",
   "metadata": {},
   "outputs": [
    {
     "name": "stdout",
     "output_type": "stream",
     "text": [
      "Simula que michi se esta sentando\n"
     ]
    }
   ],
   "source": [
    "Gato_1.sentarse()"
   ]
  },
  {
   "cell_type": "code",
   "execution_count": 59,
   "id": "efdab7e8-a76c-4677-960f-3d95e5c40a62",
   "metadata": {},
   "outputs": [
    {
     "name": "stdout",
     "output_type": "stream",
     "text": [
      "michi tiene 2 meses\n"
     ]
    }
   ],
   "source": [
    "Gato_1.qedad()"
   ]
  },
  {
   "cell_type": "code",
   "execution_count": 36,
   "id": "0666982b-bfbb-4589-8dd7-4a0cc7e34f29",
   "metadata": {},
   "outputs": [
    {
     "name": "stdout",
     "output_type": "stream",
     "text": [
      " tiene collar\n"
     ]
    }
   ],
   "source": [
    "Gato_1.collar(True)"
   ]
  }
 ],
 "metadata": {
  "kernelspec": {
   "display_name": "Python 3",
   "language": "python",
   "name": "python3"
  },
  "language_info": {
   "codemirror_mode": {
    "name": "ipython",
    "version": 3
   },
   "file_extension": ".py",
   "mimetype": "text/x-python",
   "name": "python",
   "nbconvert_exporter": "python",
   "pygments_lexer": "ipython3",
   "version": "3.8.8"
  }
 },
 "nbformat": 4,
 "nbformat_minor": 5
}
