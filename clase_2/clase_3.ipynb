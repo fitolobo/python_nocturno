{
 "cells": [
  {
   "cell_type": "code",
   "execution_count": 1,
   "id": "ee522c94-2069-479b-9eec-ee4a66503027",
   "metadata": {},
   "outputs": [],
   "source": [
    "### clase organizada!"
   ]
  },
  {
   "cell_type": "code",
   "execution_count": 2,
   "id": "a5cfe7be-f390-4cd9-bfe0-d89acc5cfe16",
   "metadata": {},
   "outputs": [],
   "source": [
    "import pandas as pd  #csv-xlsm\n",
    "import os            #directories\n",
    "import time          #spend time\n",
    "\n",
    "\n",
    "### LIMPIEZA\n",
    "### DIRECTORIOS\n",
    "path = os.getcwd()\n",
    "directory_files = '/OneDrive-2022-01-29/'"
   ]
  },
  {
   "cell_type": "code",
   "execution_count": 3,
   "id": "d9c92bdb-feb8-4cc8-86a0-8cd279d14b5f",
   "metadata": {},
   "outputs": [],
   "source": [
    "### FUNCION DE RECOLECCION DE LOS XLSM #########################################\n",
    "### CONTADOR DE ARCHIVOS###\n",
    "def preprocesamiento(path,directory_files):\n",
    "    count = 0\n",
    "    ### NUEVOS NOMBRES PARA LAS COLUMNAS DE LOS XLSM ###############################\n",
    "    column_names = [\"fecha\",\"horas\",\"cod\",\"nombre\"]\n",
    "    archivos = list()\n",
    "\n",
    "    start_time = time.time()\n",
    "\n",
    "    for subdir, dirs, files in os.walk(path+directory_files):\n",
    "        for file in files:\n",
    "            count += 1\n",
    "            try:\n",
    "                #print(file)\n",
    "                df = pd.read_excel(path+directory_files+file, index_col = False, sheet_name = None)\n",
    "                tabla = df['HH'].iloc[10:149,1:5]\n",
    "                tabla.columns = column_names\n",
    "\n",
    "                archivos.append(tabla)\n",
    "\n",
    "        ## If the file is not valid, skip it\n",
    "            except ValueError:\n",
    "                continue\n",
    "\n",
    "            print(\"Total Number of XLSM Files\")\n",
    "            print(count)\n",
    "            print(\"--- Data loaded. Loading time: %s seconds ---\" % (time.time() - start_time))\n",
    "\n",
    "    return archivos"
   ]
  },
  {
   "cell_type": "code",
   "execution_count": 4,
   "id": "e1e99bbb-2e63-4bee-b98f-a5018e117f89",
   "metadata": {},
   "outputs": [],
   "source": [
    "def periodos_tiempo(archivo_i):\n",
    "    i = 0\n",
    "    rangos_de_tiempo = list()\n",
    "    ##### tener los tiempos ######\n",
    "    for dia in archivo_i.fecha:\n",
    "\n",
    "        if not pd.isna(dia):\n",
    "            rangos_de_tiempo.append(i)\n",
    "        i += 1\n",
    "    ###############################\n",
    "\n",
    "    ultimo_valor = len(archivo_i.fecha) - rangos_de_tiempo[-1]\n",
    "    rangos_de_tiempo.append(ultimo_valor)\n",
    "    \n",
    "    return rangos_de_tiempo"
   ]
  },
  {
   "cell_type": "code",
   "execution_count": 5,
   "id": "81bc4ec8-372c-4778-a74b-b437a838e130",
   "metadata": {},
   "outputs": [],
   "source": [
    "def suma_horas_por_dia(rangos_de_tiempo,archivo_i):\n",
    "    # partida\n",
    "    lim_inf = 0\n",
    "    lim_sup = 2\n",
    "\n",
    "    dict_cod = {}\n",
    "\n",
    "    horas_dia = []\n",
    "\n",
    "    for i in range(len(rangos_de_tiempo)-1):\n",
    "\n",
    "        # agarro el intervalo\n",
    "        intervalo = rangos_de_tiempo[lim_inf:lim_sup]\n",
    "\n",
    "        # me adelanto para la modificacion del intervalo en la siguiente iteracion\n",
    "        lim_inf = i + 1\n",
    "        lim_sup = i + 3\n",
    "\n",
    "        for j in range(intervalo[0],intervalo[1]):\n",
    "\n",
    "            dict_cod[str(archivo_i.cod.iloc[j])] =+ archivo_i.horas.iloc[j]\n",
    "            horas_dia.append(dict_cod)\n",
    "\n",
    "        return horas_dia"
   ]
  },
  {
   "cell_type": "code",
   "execution_count": null,
   "id": "35f3b1d8-d976-4704-82dc-bc71f9f09706",
   "metadata": {},
   "outputs": [],
   "source": [
    "def reset_codigos():\n",
    "        # reset del diccionario\n",
    "    dict_cod = {}\n",
    "    \n",
    "    for i in range(1,len(codigos.codigos)):\n",
    "        dict_cod[str(codigos.codigos[i])] = 0\n",
    "        \n",
    "    dict_cod[\"9020003\"] = 0\n",
    "    dict_cod[\"1021065\"] = 0\n",
    "    dict_cod[\"1021019\"] = 0\n",
    "    dict_cod[\"2021035\"] = 0\n",
    "    dict_cod[\"9020001\"] = 0\n",
    "    \n",
    "    return dict_cod"
   ]
  },
  {
   "cell_type": "code",
   "execution_count": 6,
   "id": "d33904fa-5308-4223-9255-76dc4c8a08d7",
   "metadata": {},
   "outputs": [
    {
     "name": "stderr",
     "output_type": "stream",
     "text": [
      "/Users/rodolfo.lobo/opt/anaconda3/lib/python3.8/site-packages/openpyxl/worksheet/_reader.py:312: UserWarning: Data Validation extension is not supported and will be removed\n",
      "  warn(msg)\n"
     ]
    },
    {
     "name": "stdout",
     "output_type": "stream",
     "text": [
      "Total Number of XLSM Files\n",
      "1\n",
      "--- Data loaded. Loading time: 0.9281511306762695 seconds ---\n",
      "Total Number of XLSM Files\n",
      "2\n",
      "--- Data loaded. Loading time: 1.2487220764160156 seconds ---\n",
      "Total Number of XLSM Files\n",
      "3\n",
      "--- Data loaded. Loading time: 1.5414421558380127 seconds ---\n",
      "Total Number of XLSM Files\n",
      "4\n",
      "--- Data loaded. Loading time: 1.8092119693756104 seconds ---\n",
      "Total Number of XLSM Files\n",
      "5\n",
      "--- Data loaded. Loading time: 2.1329140663146973 seconds ---\n",
      "Total Number of XLSM Files\n",
      "6\n",
      "--- Data loaded. Loading time: 2.3758630752563477 seconds ---\n",
      "Total Number of XLSM Files\n",
      "7\n",
      "--- Data loaded. Loading time: 2.670208215713501 seconds ---\n",
      "Total Number of XLSM Files\n",
      "8\n",
      "--- Data loaded. Loading time: 2.941876173019409 seconds ---\n",
      "Total Number of XLSM Files\n",
      "9\n",
      "--- Data loaded. Loading time: 3.253561019897461 seconds ---\n",
      "Total Number of XLSM Files\n",
      "10\n",
      "--- Data loaded. Loading time: 3.5225770473480225 seconds ---\n",
      "Total Number of XLSM Files\n",
      "11\n",
      "--- Data loaded. Loading time: 3.7788350582122803 seconds ---\n"
     ]
    }
   ],
   "source": [
    "### Pipeline\n",
    "'''\n",
    "    # NOTE: no olvidar agregar a cada uno de estos archivos el nombre o codigo\n",
    "    del trabajador.\n",
    "'''\n",
    "\n",
    "archivos = preprocesamiento(path,directory_files)"
   ]
  },
  {
   "cell_type": "code",
   "execution_count": 7,
   "id": "b6b3de8b-3671-43a8-8e07-5680f8db6785",
   "metadata": {},
   "outputs": [],
   "source": [
    "#L = len(archivos)\n",
    "#for i in range(L):\n",
    "#    ### Probando para un solo archivo!\n",
    "#    archivo_i = archivos[i] #esto tiene que estar dentro de un loop que recorra los archivos\n",
    "#    rangos_de_tiempo = periodos_tiempo(archivo_i)\n",
    "#    horas_dia = suma_horas_por_dia(rangos_de_tiempo,archivo_i)"
   ]
  },
  {
   "cell_type": "code",
   "execution_count": 8,
   "id": "4f2ece59-8e99-447b-b165-31c8a91e40ad",
   "metadata": {},
   "outputs": [],
   "source": [
    "archivo_i = archivos[5] #esto tiene que estar dentro de un loop que recorra los archivos\n",
    "rangos_de_tiempo = periodos_tiempo(archivo_i)\n",
    "horas_dia = suma_horas_por_dia(rangos_de_tiempo,archivo_i)"
   ]
  },
  {
   "cell_type": "code",
   "execution_count": 9,
   "id": "5ed40374-e223-48d1-871a-3b6d81937521",
   "metadata": {},
   "outputs": [],
   "source": [
    "#rangos_de_tiempo"
   ]
  },
  {
   "cell_type": "code",
   "execution_count": 18,
   "id": "44c21783-49ef-43ae-8594-b2ebf3f0e815",
   "metadata": {},
   "outputs": [
    {
     "name": "stdout",
     "output_type": "stream",
     "text": [
      "{'6305': 6.0, '9020003': 3}\n",
      "{'9020003': 2, '1021065': 7.0}\n",
      "{'6305': 9.0}\n",
      "{'6305': 9.0}\n",
      "{'6305': 4.5, '9020003': 3}\n",
      "{'6305': 7.5, '9020003': 1.5}\n",
      "{'6305': 2.5, '6313': 4.5, '9020003': 2}\n",
      "{'6305': 4.5, '9020003': 4.5}\n",
      "{'4019': 4.5, '6313': 4.5}\n",
      "{'6313': 4.5, '9020003': 3}\n",
      "{'6313': 9.0}\n",
      "{'6313': 4.5, '1021019': 4.5}\n",
      "{'9020001': 9}\n",
      "{'9020001': 7.5}\n",
      "{'9020001': 9}\n",
      "{'6313': 9.0}\n",
      "{'6313': 4.5, '1021019': 4.5}\n",
      "{'6313': 9.0}\n",
      "{'6313': 4.5, '9020003': 3}\n",
      "{'9020001': 9}\n",
      "{'6313': 4.5, '2021035': 4.5}\n",
      "{'6313': 4.5, '2021035': 4.5}\n",
      "{'6305': 9.0}\n",
      "{'6305': 4.5, '9020003': 3}\n"
     ]
    }
   ],
   "source": [
    "# partida\n",
    "lim_inf = 0\n",
    "lim_sup = 2\n",
    "\n",
    "#dict_cod = {}\n",
    "\n",
    "horas_dia = []\n",
    "codigos = pd.read_csv(\"codigos.csv\", index_col = False)\n",
    "\n",
    "for i in range(len(rangos_de_tiempo)-1):\n",
    "\n",
    "    # agarro el intervalo\n",
    "    intervalo = rangos_de_tiempo[lim_inf:lim_sup]\n",
    "    # me adelanto para la modificacion del intervalo en la siguiente iteracion\n",
    "    lim_inf = i + 1\n",
    "    lim_sup = i + 3\n",
    "    \n",
    "    dict_cod = reset_codigos()\n",
    "\n",
    "    for j in range(intervalo[0],intervalo[1]):\n",
    "        \n",
    "        if not math.isnan(archivo_i.cod.iloc[j]):\n",
    "            dict_cod[str(archivo_i.cod.iloc[j])] =+ archivo_i.horas.iloc[j] + dict_cod[str(archivo_i.cod.iloc[j])]\n",
    "        \n",
    "    horas_dia.append({x:y for x,y in dict_cod.items() if y!=0})\n",
    "    print({x:y for x,y in dict_cod.items() if y!=0})\n",
    "    "
   ]
  },
  {
   "cell_type": "code",
   "execution_count": 19,
   "id": "29dc0408-f7e7-40ce-846e-a161d261f08b",
   "metadata": {},
   "outputs": [
    {
     "data": {
      "text/plain": [
       "24"
      ]
     },
     "execution_count": 19,
     "metadata": {},
     "output_type": "execute_result"
    }
   ],
   "source": [
    "len(horas_dia)"
   ]
  },
  {
   "cell_type": "code",
   "execution_count": 27,
   "id": "4bdfc689-cc37-4827-bd38-bb71130b6022",
   "metadata": {},
   "outputs": [],
   "source": [
    "from collections import Counter"
   ]
  },
  {
   "cell_type": "code",
   "execution_count": 25,
   "id": "fbbe919d-63ab-431d-a807-c41050ab3ec9",
   "metadata": {},
   "outputs": [
    {
     "data": {
      "text/plain": [
       "2"
      ]
     },
     "execution_count": 25,
     "metadata": {},
     "output_type": "execute_result"
    }
   ],
   "source": [
    "len(horas_dia[0])"
   ]
  },
  {
   "cell_type": "code",
   "execution_count": 29,
   "id": "94876d9a-1dbf-4e9b-8e83-3931c87badbd",
   "metadata": {},
   "outputs": [],
   "source": [
    "aux = Counter(horas_dia[0])\n",
    "for i in range(1,len(horas_dia)):\n",
    "    aux = aux + Counter(horas_dia[i])"
   ]
  },
  {
   "cell_type": "code",
   "execution_count": 30,
   "id": "7cb63e1c-2c28-4803-8ba2-7e03e548d4e2",
   "metadata": {},
   "outputs": [
    {
     "data": {
      "text/plain": [
       "Counter({'6305': 56.5,\n",
       "         '9020003': 25.0,\n",
       "         '1021065': 7.0,\n",
       "         '6313': 63.0,\n",
       "         '4019': 4.5,\n",
       "         '1021019': 9.0,\n",
       "         '9020001': 34.5,\n",
       "         '2021035': 9.0})"
      ]
     },
     "execution_count": 30,
     "metadata": {},
     "output_type": "execute_result"
    }
   ],
   "source": [
    "aux"
   ]
  }
 ],
 "metadata": {
  "kernelspec": {
   "display_name": "Python 3",
   "language": "python",
   "name": "python3"
  },
  "language_info": {
   "codemirror_mode": {
    "name": "ipython",
    "version": 3
   },
   "file_extension": ".py",
   "mimetype": "text/x-python",
   "name": "python",
   "nbconvert_exporter": "python",
   "pygments_lexer": "ipython3",
   "version": "3.8.8"
  }
 },
 "nbformat": 4,
 "nbformat_minor": 5
}
