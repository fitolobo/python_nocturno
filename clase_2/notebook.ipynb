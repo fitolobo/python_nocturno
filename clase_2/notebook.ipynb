{
 "cells": [
  {
   "cell_type": "markdown",
   "id": "cbbdb688-cc34-4a4b-a1b0-7642a72889ff",
   "metadata": {},
   "source": [
    "# Crear un dataframe"
   ]
  },
  {
   "cell_type": "code",
   "execution_count": 11,
   "id": "d53bd664-3680-422b-9356-8e090aa0cede",
   "metadata": {},
   "outputs": [],
   "source": [
    "### Leyendo data y creando data desde un excel (.csv, .tsv)\n",
    "import pandas as pd  #llamar a la librería (que tiene un monton de funciones para leer, escribir y alterar .csv y otras extensiones)\n",
    "\n",
    "\n",
    "# crear un  csv a mano!\n",
    "nombre = [\"Cristian\",\"Fito\",\"Paula\"]\n",
    "edad = [\" \", \"32\", \"31\"]\n",
    "comuna = [\"Independencia\",\"Maipú\",\"huechuraba\"]\n",
    "\n",
    "dict = {\"Nombres\": nombre , \"Edades\": edad,\n",
    "        \"Comuna\": comuna}\n",
    "\n",
    "#########################\n",
    "#Nombres    Edades   Comuna\n",
    "#Cristian   \"   \"    ...\n",
    "#Fito         32     ...\n",
    "#Paula        31     ...\n",
    "#########################\n",
    "\n",
    "\n",
    "# aqui le damos una estructura \"general\"\n",
    "df = pd.DataFrame(dict)    #desde pandas llama la funcion DataFrame y aplicala al diccionario dict\n",
    "\n",
    "# que despues permite transformar a .csv u otros.\n",
    "df.to_csv('ejemplo.csv',index = False)"
   ]
  },
  {
   "cell_type": "code",
   "execution_count": 12,
   "id": "d1a8c40e-5257-4b1a-a0c5-bfcf89ecb81f",
   "metadata": {},
   "outputs": [
    {
     "data": {
      "text/html": [
       "<div>\n",
       "<style scoped>\n",
       "    .dataframe tbody tr th:only-of-type {\n",
       "        vertical-align: middle;\n",
       "    }\n",
       "\n",
       "    .dataframe tbody tr th {\n",
       "        vertical-align: top;\n",
       "    }\n",
       "\n",
       "    .dataframe thead th {\n",
       "        text-align: right;\n",
       "    }\n",
       "</style>\n",
       "<table border=\"1\" class=\"dataframe\">\n",
       "  <thead>\n",
       "    <tr style=\"text-align: right;\">\n",
       "      <th></th>\n",
       "      <th>Nombres</th>\n",
       "      <th>Edades</th>\n",
       "      <th>Comuna</th>\n",
       "    </tr>\n",
       "  </thead>\n",
       "  <tbody>\n",
       "    <tr>\n",
       "      <th>0</th>\n",
       "      <td>Cristian</td>\n",
       "      <td></td>\n",
       "      <td>Independencia</td>\n",
       "    </tr>\n",
       "    <tr>\n",
       "      <th>1</th>\n",
       "      <td>Fito</td>\n",
       "      <td>32</td>\n",
       "      <td>Maipú</td>\n",
       "    </tr>\n",
       "    <tr>\n",
       "      <th>2</th>\n",
       "      <td>Paula</td>\n",
       "      <td>31</td>\n",
       "      <td>huechuraba</td>\n",
       "    </tr>\n",
       "  </tbody>\n",
       "</table>\n",
       "</div>"
      ],
      "text/plain": [
       "    Nombres Edades         Comuna\n",
       "0  Cristian         Independencia\n",
       "1      Fito     32          Maipú\n",
       "2     Paula     31     huechuraba"
      ]
     },
     "execution_count": 12,
     "metadata": {},
     "output_type": "execute_result"
    }
   ],
   "source": [
    "df"
   ]
  },
  {
   "cell_type": "markdown",
   "id": "7eca1107-cd4c-4531-85b9-5d29d2418778",
   "metadata": {},
   "source": [
    "# Leer un dataframe"
   ]
  },
  {
   "cell_type": "code",
   "execution_count": 15,
   "id": "b8d4d78a-ab54-49e3-b0a7-a3ee24ecaf13",
   "metadata": {},
   "outputs": [],
   "source": [
    "leyendo = pd.read_csv(\"ejemplo.csv\")"
   ]
  },
  {
   "cell_type": "code",
   "execution_count": 16,
   "id": "6f344467-2ae4-4731-8853-63eb44c2f9b1",
   "metadata": {},
   "outputs": [
    {
     "data": {
      "text/html": [
       "<div>\n",
       "<style scoped>\n",
       "    .dataframe tbody tr th:only-of-type {\n",
       "        vertical-align: middle;\n",
       "    }\n",
       "\n",
       "    .dataframe tbody tr th {\n",
       "        vertical-align: top;\n",
       "    }\n",
       "\n",
       "    .dataframe thead th {\n",
       "        text-align: right;\n",
       "    }\n",
       "</style>\n",
       "<table border=\"1\" class=\"dataframe\">\n",
       "  <thead>\n",
       "    <tr style=\"text-align: right;\">\n",
       "      <th></th>\n",
       "      <th>Nombres</th>\n",
       "      <th>Edades</th>\n",
       "      <th>Comuna</th>\n",
       "    </tr>\n",
       "  </thead>\n",
       "  <tbody>\n",
       "    <tr>\n",
       "      <th>0</th>\n",
       "      <td>Cristian</td>\n",
       "      <td></td>\n",
       "      <td>Independencia</td>\n",
       "    </tr>\n",
       "    <tr>\n",
       "      <th>1</th>\n",
       "      <td>Fito</td>\n",
       "      <td>32</td>\n",
       "      <td>Maipú</td>\n",
       "    </tr>\n",
       "    <tr>\n",
       "      <th>2</th>\n",
       "      <td>Paula</td>\n",
       "      <td>31</td>\n",
       "      <td>huechuraba</td>\n",
       "    </tr>\n",
       "  </tbody>\n",
       "</table>\n",
       "</div>"
      ],
      "text/plain": [
       "    Nombres Edades         Comuna\n",
       "0  Cristian         Independencia\n",
       "1      Fito     32          Maipú\n",
       "2     Paula     31     huechuraba"
      ]
     },
     "execution_count": 16,
     "metadata": {},
     "output_type": "execute_result"
    }
   ],
   "source": [
    "leyendo"
   ]
  },
  {
   "cell_type": "code",
   "execution_count": 19,
   "id": "48d09608-2fe3-4497-807d-d8c1c3ce483b",
   "metadata": {},
   "outputs": [],
   "source": [
    "import numpy as np"
   ]
  },
  {
   "cell_type": "code",
   "execution_count": 22,
   "id": "403194d8-c5e4-476a-b53b-c2269db59fb1",
   "metadata": {},
   "outputs": [],
   "source": [
    "lista1 = np.random.rand(100)"
   ]
  },
  {
   "cell_type": "code",
   "execution_count": 23,
   "id": "fb657a4a-e052-4feb-a819-e700e07071c0",
   "metadata": {},
   "outputs": [],
   "source": [
    "lista2 = np.random.rand(100) + 10  #sumar un escalar a una lista de numeros (les va a sumar a todos 10)"
   ]
  },
  {
   "cell_type": "code",
   "execution_count": 30,
   "id": "22864d17-0c5a-4512-b473-e34838840ce6",
   "metadata": {},
   "outputs": [
    {
     "name": "stdout",
     "output_type": "stream",
     "text": [
      "0.49226892558030555\n",
      "10.395940689258213\n"
     ]
    }
   ],
   "source": [
    "i = 99\n",
    "print(lista1[i])\n",
    "print(lista2[i])"
   ]
  },
  {
   "cell_type": "code",
   "execution_count": null,
   "id": "4d518295-44ff-49e5-9092-3aae3e194071",
   "metadata": {},
   "outputs": [],
   "source": [
    "#formula = (e_lista1 * e_lista_2)/12"
   ]
  },
  {
   "cell_type": "code",
   "execution_count": 31,
   "id": "bb001fb0-fedb-4504-9535-a3d7dc7e9db8",
   "metadata": {},
   "outputs": [
    {
     "data": {
      "text/plain": [
       "0.4264665461248101"
      ]
     },
     "execution_count": 31,
     "metadata": {},
     "output_type": "execute_result"
    }
   ],
   "source": [
    "(lista1[i]*lista2[i])/12"
   ]
  },
  {
   "cell_type": "code",
   "execution_count": 36,
   "id": "41167a9e-db20-47f6-a8a7-9ec1f64a8a1f",
   "metadata": {},
   "outputs": [],
   "source": [
    "espacio = list()\n",
    "\n",
    "for i in range(100):\n",
    "    resultado = (lista1[i]*lista2[i])/12\n",
    "    espacio.append(resultado)"
   ]
  },
  {
   "cell_type": "code",
   "execution_count": 38,
   "id": "98d3e58e-0272-4f7c-83fe-27d05a76932a",
   "metadata": {},
   "outputs": [
    {
     "data": {
      "text/plain": [
       "100"
      ]
     },
     "execution_count": 38,
     "metadata": {},
     "output_type": "execute_result"
    }
   ],
   "source": [
    "len(espacio)"
   ]
  },
  {
   "cell_type": "code",
   "execution_count": 39,
   "id": "f0d12d3c-b509-46ce-a7f2-7226854945af",
   "metadata": {},
   "outputs": [],
   "source": [
    "dict = {\"lista1\": lista1 , \"lista2\": lista2,\n",
    "        \"resultados\": espacio}\n",
    "\n",
    "df2 = pd.DataFrame(dict)  "
   ]
  },
  {
   "cell_type": "code",
   "execution_count": 40,
   "id": "7d10ee44-6e90-490a-b56d-9cdf1a78c970",
   "metadata": {},
   "outputs": [
    {
     "data": {
      "text/html": [
       "<div>\n",
       "<style scoped>\n",
       "    .dataframe tbody tr th:only-of-type {\n",
       "        vertical-align: middle;\n",
       "    }\n",
       "\n",
       "    .dataframe tbody tr th {\n",
       "        vertical-align: top;\n",
       "    }\n",
       "\n",
       "    .dataframe thead th {\n",
       "        text-align: right;\n",
       "    }\n",
       "</style>\n",
       "<table border=\"1\" class=\"dataframe\">\n",
       "  <thead>\n",
       "    <tr style=\"text-align: right;\">\n",
       "      <th></th>\n",
       "      <th>lista1</th>\n",
       "      <th>lista2</th>\n",
       "      <th>resultados</th>\n",
       "    </tr>\n",
       "  </thead>\n",
       "  <tbody>\n",
       "    <tr>\n",
       "      <th>0</th>\n",
       "      <td>0.633043</td>\n",
       "      <td>10.944298</td>\n",
       "      <td>0.577351</td>\n",
       "    </tr>\n",
       "    <tr>\n",
       "      <th>1</th>\n",
       "      <td>0.456816</td>\n",
       "      <td>10.705825</td>\n",
       "      <td>0.407550</td>\n",
       "    </tr>\n",
       "    <tr>\n",
       "      <th>2</th>\n",
       "      <td>0.394891</td>\n",
       "      <td>10.739634</td>\n",
       "      <td>0.353416</td>\n",
       "    </tr>\n",
       "    <tr>\n",
       "      <th>3</th>\n",
       "      <td>0.316026</td>\n",
       "      <td>10.153023</td>\n",
       "      <td>0.267385</td>\n",
       "    </tr>\n",
       "    <tr>\n",
       "      <th>4</th>\n",
       "      <td>0.967015</td>\n",
       "      <td>10.425518</td>\n",
       "      <td>0.840136</td>\n",
       "    </tr>\n",
       "    <tr>\n",
       "      <th>...</th>\n",
       "      <td>...</td>\n",
       "      <td>...</td>\n",
       "      <td>...</td>\n",
       "    </tr>\n",
       "    <tr>\n",
       "      <th>95</th>\n",
       "      <td>0.465121</td>\n",
       "      <td>10.914024</td>\n",
       "      <td>0.423029</td>\n",
       "    </tr>\n",
       "    <tr>\n",
       "      <th>96</th>\n",
       "      <td>0.236782</td>\n",
       "      <td>10.707127</td>\n",
       "      <td>0.211271</td>\n",
       "    </tr>\n",
       "    <tr>\n",
       "      <th>97</th>\n",
       "      <td>0.881148</td>\n",
       "      <td>10.167631</td>\n",
       "      <td>0.746599</td>\n",
       "    </tr>\n",
       "    <tr>\n",
       "      <th>98</th>\n",
       "      <td>0.178944</td>\n",
       "      <td>10.053868</td>\n",
       "      <td>0.149923</td>\n",
       "    </tr>\n",
       "    <tr>\n",
       "      <th>99</th>\n",
       "      <td>0.492269</td>\n",
       "      <td>10.395941</td>\n",
       "      <td>0.426467</td>\n",
       "    </tr>\n",
       "  </tbody>\n",
       "</table>\n",
       "<p>100 rows × 3 columns</p>\n",
       "</div>"
      ],
      "text/plain": [
       "      lista1     lista2  resultados\n",
       "0   0.633043  10.944298    0.577351\n",
       "1   0.456816  10.705825    0.407550\n",
       "2   0.394891  10.739634    0.353416\n",
       "3   0.316026  10.153023    0.267385\n",
       "4   0.967015  10.425518    0.840136\n",
       "..       ...        ...         ...\n",
       "95  0.465121  10.914024    0.423029\n",
       "96  0.236782  10.707127    0.211271\n",
       "97  0.881148  10.167631    0.746599\n",
       "98  0.178944  10.053868    0.149923\n",
       "99  0.492269  10.395941    0.426467\n",
       "\n",
       "[100 rows x 3 columns]"
      ]
     },
     "execution_count": 40,
     "metadata": {},
     "output_type": "execute_result"
    }
   ],
   "source": [
    "df2"
   ]
  },
  {
   "cell_type": "code",
   "execution_count": 41,
   "id": "c1914308-9f1b-450a-b7f0-5b6bf3595e7b",
   "metadata": {},
   "outputs": [
    {
     "data": {
      "text/html": [
       "<div>\n",
       "<style scoped>\n",
       "    .dataframe tbody tr th:only-of-type {\n",
       "        vertical-align: middle;\n",
       "    }\n",
       "\n",
       "    .dataframe tbody tr th {\n",
       "        vertical-align: top;\n",
       "    }\n",
       "\n",
       "    .dataframe thead th {\n",
       "        text-align: right;\n",
       "    }\n",
       "</style>\n",
       "<table border=\"1\" class=\"dataframe\">\n",
       "  <thead>\n",
       "    <tr style=\"text-align: right;\">\n",
       "      <th></th>\n",
       "      <th>lista1</th>\n",
       "      <th>lista2</th>\n",
       "      <th>resultados</th>\n",
       "    </tr>\n",
       "  </thead>\n",
       "  <tbody>\n",
       "    <tr>\n",
       "      <th>count</th>\n",
       "      <td>100.000000</td>\n",
       "      <td>100.000000</td>\n",
       "      <td>100.000000</td>\n",
       "    </tr>\n",
       "    <tr>\n",
       "      <th>mean</th>\n",
       "      <td>0.479000</td>\n",
       "      <td>10.507130</td>\n",
       "      <td>0.419478</td>\n",
       "    </tr>\n",
       "    <tr>\n",
       "      <th>std</th>\n",
       "      <td>0.306836</td>\n",
       "      <td>0.290080</td>\n",
       "      <td>0.269284</td>\n",
       "    </tr>\n",
       "    <tr>\n",
       "      <th>min</th>\n",
       "      <td>0.014370</td>\n",
       "      <td>10.008564</td>\n",
       "      <td>0.012753</td>\n",
       "    </tr>\n",
       "    <tr>\n",
       "      <th>25%</th>\n",
       "      <td>0.211766</td>\n",
       "      <td>10.261465</td>\n",
       "      <td>0.184244</td>\n",
       "    </tr>\n",
       "    <tr>\n",
       "      <th>50%</th>\n",
       "      <td>0.465059</td>\n",
       "      <td>10.522690</td>\n",
       "      <td>0.422323</td>\n",
       "    </tr>\n",
       "    <tr>\n",
       "      <th>75%</th>\n",
       "      <td>0.739142</td>\n",
       "      <td>10.745933</td>\n",
       "      <td>0.637324</td>\n",
       "    </tr>\n",
       "    <tr>\n",
       "      <th>max</th>\n",
       "      <td>0.985775</td>\n",
       "      <td>10.982792</td>\n",
       "      <td>0.893911</td>\n",
       "    </tr>\n",
       "  </tbody>\n",
       "</table>\n",
       "</div>"
      ],
      "text/plain": [
       "           lista1      lista2  resultados\n",
       "count  100.000000  100.000000  100.000000\n",
       "mean     0.479000   10.507130    0.419478\n",
       "std      0.306836    0.290080    0.269284\n",
       "min      0.014370   10.008564    0.012753\n",
       "25%      0.211766   10.261465    0.184244\n",
       "50%      0.465059   10.522690    0.422323\n",
       "75%      0.739142   10.745933    0.637324\n",
       "max      0.985775   10.982792    0.893911"
      ]
     },
     "execution_count": 41,
     "metadata": {},
     "output_type": "execute_result"
    }
   ],
   "source": [
    "df2.describe()"
   ]
  },
  {
   "cell_type": "code",
   "execution_count": 43,
   "id": "18655682-a33e-43b1-a3a3-b9b389e6b8bf",
   "metadata": {},
   "outputs": [
    {
     "data": {
      "text/plain": [
       "<matplotlib.axes._subplots.AxesSubplot at 0x7fba0daf4160>"
      ]
     },
     "execution_count": 43,
     "metadata": {},
     "output_type": "execute_result"
    },
    {
     "data": {
      "image/png": "[encoded data removed]",
      "text/plain": [
       "<Figure size 432x288 with 1 Axes>"
      ]
     },
     "metadata": {
      "needs_background": "light"
     },
     "output_type": "display_data"
    }
   ],
   "source": [
    "df2.lista1.hist()"
   ]
  },
  {
   "cell_type": "code",
   "execution_count": 233,
   "id": "12fe52c3-d687-49f6-baa3-e7b31715fe1f",
   "metadata": {},
   "outputs": [],
   "source": [
    "import pandas as pd\n",
    "import os\n",
    "\n",
    "df = pd.read_excel(\"OneDrive-2022-01-29/HN-1221-CRH.xlsm\", index_col = False, sheet_name = None)"
   ]
  },
  {
   "cell_type": "code",
   "execution_count": 235,
   "id": "ea1bf127-95ad-4a97-af77-af3fdff16104",
   "metadata": {},
   "outputs": [],
   "source": [
    "codigos = df['Codigos'].iloc[:,1:3]\n",
    "codigos.columns = [\"codigos\",\"proyecto\"]"
   ]
  },
  {
   "cell_type": "code",
   "execution_count": 132,
   "id": "fda4ebb3-f793-4725-8590-2258153c14c9",
   "metadata": {},
   "outputs": [],
   "source": [
    "codigos.to_csv('codigos.csv',index = False)"
   ]
  },
  {
   "cell_type": "code",
   "execution_count": 133,
   "id": "2c315ffb-cde8-4987-ad5a-d8cafefe9827",
   "metadata": {},
   "outputs": [
    {
     "data": {
      "text/html": [
       "<div>\n",
       "<style scoped>\n",
       "    .dataframe tbody tr th:only-of-type {\n",
       "        vertical-align: middle;\n",
       "    }\n",
       "\n",
       "    .dataframe tbody tr th {\n",
       "        vertical-align: top;\n",
       "    }\n",
       "\n",
       "    .dataframe thead th {\n",
       "        text-align: right;\n",
       "    }\n",
       "</style>\n",
       "<table border=\"1\" class=\"dataframe\">\n",
       "  <thead>\n",
       "    <tr style=\"text-align: right;\">\n",
       "      <th></th>\n",
       "      <th>codigos</th>\n",
       "      <th>proyecto</th>\n",
       "    </tr>\n",
       "  </thead>\n",
       "  <tbody>\n",
       "    <tr>\n",
       "      <th>0</th>\n",
       "      <td>CODIGO</td>\n",
       "      <td>PROYECTO</td>\n",
       "    </tr>\n",
       "    <tr>\n",
       "      <th>1</th>\n",
       "      <td>0</td>\n",
       "      <td>error</td>\n",
       "    </tr>\n",
       "    <tr>\n",
       "      <th>2</th>\n",
       "      <td>1</td>\n",
       "      <td>COTIZACIONES PERÚ</td>\n",
       "    </tr>\n",
       "    <tr>\n",
       "      <th>3</th>\n",
       "      <td>2</td>\n",
       "      <td>COTIZACIONES PROYECTOS ESPECIALES</td>\n",
       "    </tr>\n",
       "    <tr>\n",
       "      <th>4</th>\n",
       "      <td>100</td>\n",
       "      <td>IZ. PUENTE LIMARI</td>\n",
       "    </tr>\n",
       "    <tr>\n",
       "      <th>...</th>\n",
       "      <td>...</td>\n",
       "      <td>...</td>\n",
       "    </tr>\n",
       "    <tr>\n",
       "      <th>1256</th>\n",
       "      <td>9540</td>\n",
       "      <td>DES. INGENIERÍA Y PROCEDIMIENTO - ESCALA SECURITY</td>\n",
       "    </tr>\n",
       "    <tr>\n",
       "      <th>1257</th>\n",
       "      <td>9541</td>\n",
       "      <td>INGENIERÍA RESTITUCIÓN DE LOSA ED. APOQUINDO</td>\n",
       "    </tr>\n",
       "    <tr>\n",
       "      <th>1258</th>\n",
       "      <td>9542</td>\n",
       "      <td>INFORME VALIDACIÓN Y RECOMENDACIONES EDIFICIO CC</td>\n",
       "    </tr>\n",
       "    <tr>\n",
       "      <th>1259</th>\n",
       "      <td>9543</td>\n",
       "      <td>INGENIERÍA RESTITUCIÓN DE LOSA TERRITORIA 3000</td>\n",
       "    </tr>\n",
       "    <tr>\n",
       "      <th>1260</th>\n",
       "      <td>9544</td>\n",
       "      <td>INFORME TÉCNICO GAM II</td>\n",
       "    </tr>\n",
       "  </tbody>\n",
       "</table>\n",
       "<p>1261 rows × 2 columns</p>\n",
       "</div>"
      ],
      "text/plain": [
       "     codigos                                           proyecto\n",
       "0     CODIGO                                           PROYECTO\n",
       "1          0                                              error\n",
       "2          1                                  COTIZACIONES PERÚ\n",
       "3          2                  COTIZACIONES PROYECTOS ESPECIALES\n",
       "4        100                                  IZ. PUENTE LIMARI\n",
       "...      ...                                                ...\n",
       "1256    9540  DES. INGENIERÍA Y PROCEDIMIENTO - ESCALA SECURITY\n",
       "1257    9541       INGENIERÍA RESTITUCIÓN DE LOSA ED. APOQUINDO\n",
       "1258    9542   INFORME VALIDACIÓN Y RECOMENDACIONES EDIFICIO CC\n",
       "1259    9543     INGENIERÍA RESTITUCIÓN DE LOSA TERRITORIA 3000\n",
       "1260    9544                             INFORME TÉCNICO GAM II\n",
       "\n",
       "[1261 rows x 2 columns]"
      ]
     },
     "execution_count": 133,
     "metadata": {},
     "output_type": "execute_result"
    }
   ],
   "source": [
    "codigos"
   ]
  },
  {
   "cell_type": "code",
   "execution_count": 120,
   "id": "9513158f-712f-4291-a0b0-b0020c76ea8b",
   "metadata": {},
   "outputs": [
    {
     "data": {
      "text/plain": [
       "(150, 20)"
      ]
     },
     "execution_count": 120,
     "metadata": {},
     "output_type": "execute_result"
    }
   ],
   "source": [
    "df['HH'].shape"
   ]
  },
  {
   "cell_type": "code",
   "execution_count": 62,
   "id": "105d25a3-6e12-4fc3-876c-54d48501e8de",
   "metadata": {},
   "outputs": [],
   "source": [
    "# lineas 9 - 61 y colmnas 1 - 8 "
   ]
  },
  {
   "cell_type": "code",
   "execution_count": 78,
   "id": "ecd4b328-091d-4787-8b68-cfb380108b25",
   "metadata": {},
   "outputs": [
    {
     "data": {
      "text/plain": [
       "(150, 20)"
      ]
     },
     "execution_count": 78,
     "metadata": {},
     "output_type": "execute_result"
    }
   ],
   "source": [
    "df['HH'].shape"
   ]
  },
  {
   "cell_type": "code",
   "execution_count": 82,
   "id": "b16f651f-4e05-49d5-8a79-02e34f2e1ded",
   "metadata": {},
   "outputs": [],
   "source": [
    "tabla = df['HH'].iloc[9:149,1:5]"
   ]
  },
  {
   "cell_type": "code",
   "execution_count": 83,
   "id": "c6a85ec5-40a3-4e3f-b3a8-2f2bca0f749d",
   "metadata": {},
   "outputs": [],
   "source": [
    "column_names = [\"fecha\",\"horas\",\"cod\",\"nombre\"]"
   ]
  },
  {
   "cell_type": "code",
   "execution_count": 84,
   "id": "70106fc2-b27c-4b39-94c4-6baaede4093e",
   "metadata": {},
   "outputs": [],
   "source": [
    "tabla.columns = column_names"
   ]
  },
  {
   "cell_type": "code",
   "execution_count": 85,
   "id": "c9c5c39c-2159-4b5c-8943-71d861f5bb3f",
   "metadata": {},
   "outputs": [
    {
     "data": {
      "text/html": [
       "<div>\n",
       "<style scoped>\n",
       "    .dataframe tbody tr th:only-of-type {\n",
       "        vertical-align: middle;\n",
       "    }\n",
       "\n",
       "    .dataframe tbody tr th {\n",
       "        vertical-align: top;\n",
       "    }\n",
       "\n",
       "    .dataframe thead th {\n",
       "        text-align: right;\n",
       "    }\n",
       "</style>\n",
       "<table border=\"1\" class=\"dataframe\">\n",
       "  <thead>\n",
       "    <tr style=\"text-align: right;\">\n",
       "      <th></th>\n",
       "      <th>fecha</th>\n",
       "      <th>horas</th>\n",
       "      <th>cod</th>\n",
       "      <th>nombre</th>\n",
       "    </tr>\n",
       "  </thead>\n",
       "  <tbody>\n",
       "    <tr>\n",
       "      <th>9</th>\n",
       "      <td>NaN</td>\n",
       "      <td>NaN</td>\n",
       "      <td>NaN</td>\n",
       "      <td>NaN</td>\n",
       "    </tr>\n",
       "    <tr>\n",
       "      <th>10</th>\n",
       "      <td>2021-11-22 00:00:00</td>\n",
       "      <td>3.5</td>\n",
       "      <td>6305</td>\n",
       "      <td>EDIFICIO MATILDE SALAMANCA</td>\n",
       "    </tr>\n",
       "    <tr>\n",
       "      <th>11</th>\n",
       "      <td>NaN</td>\n",
       "      <td>1</td>\n",
       "      <td>9020003</td>\n",
       "      <td>DESARROLLO INTERNO</td>\n",
       "    </tr>\n",
       "    <tr>\n",
       "      <th>12</th>\n",
       "      <td>NaN</td>\n",
       "      <td>2.5</td>\n",
       "      <td>6305</td>\n",
       "      <td>EDIFICIO MATILDE SALAMANCA</td>\n",
       "    </tr>\n",
       "    <tr>\n",
       "      <th>13</th>\n",
       "      <td>NaN</td>\n",
       "      <td>2</td>\n",
       "      <td>9020003</td>\n",
       "      <td>DESARROLLO INTERNO</td>\n",
       "    </tr>\n",
       "    <tr>\n",
       "      <th>14</th>\n",
       "      <td>2021-11-23 00:00:00</td>\n",
       "      <td>4.5</td>\n",
       "      <td>1021065</td>\n",
       "      <td>Edificio O´Brien 2845</td>\n",
       "    </tr>\n",
       "    <tr>\n",
       "      <th>15</th>\n",
       "      <td>NaN</td>\n",
       "      <td>2.5</td>\n",
       "      <td>1021065</td>\n",
       "      <td>Edificio O´Brien 2845</td>\n",
       "    </tr>\n",
       "    <tr>\n",
       "      <th>16</th>\n",
       "      <td>NaN</td>\n",
       "      <td>2</td>\n",
       "      <td>9020003</td>\n",
       "      <td>DESARROLLO INTERNO</td>\n",
       "    </tr>\n",
       "    <tr>\n",
       "      <th>17</th>\n",
       "      <td>2021-11-24 00:00:00</td>\n",
       "      <td>3</td>\n",
       "      <td>6305</td>\n",
       "      <td>EDIFICIO MATILDE SALAMANCA</td>\n",
       "    </tr>\n",
       "    <tr>\n",
       "      <th>18</th>\n",
       "      <td>NaN</td>\n",
       "      <td>1.5</td>\n",
       "      <td>6305</td>\n",
       "      <td>EDIFICIO MATILDE SALAMANCA</td>\n",
       "    </tr>\n",
       "  </tbody>\n",
       "</table>\n",
       "</div>"
      ],
      "text/plain": [
       "                  fecha horas      cod                      nombre\n",
       "9                   NaN   NaN      NaN                         NaN\n",
       "10  2021-11-22 00:00:00   3.5     6305  EDIFICIO MATILDE SALAMANCA\n",
       "11                  NaN     1  9020003          DESARROLLO INTERNO\n",
       "12                  NaN   2.5     6305  EDIFICIO MATILDE SALAMANCA\n",
       "13                  NaN     2  9020003          DESARROLLO INTERNO\n",
       "14  2021-11-23 00:00:00   4.5  1021065       Edificio O´Brien 2845\n",
       "15                  NaN   2.5  1021065       Edificio O´Brien 2845\n",
       "16                  NaN     2  9020003          DESARROLLO INTERNO\n",
       "17  2021-11-24 00:00:00     3     6305  EDIFICIO MATILDE SALAMANCA\n",
       "18                  NaN   1.5     6305  EDIFICIO MATILDE SALAMANCA"
      ]
     },
     "execution_count": 85,
     "metadata": {},
     "output_type": "execute_result"
    }
   ],
   "source": [
    "tabla.iloc[0:10,:]"
   ]
  },
  {
   "cell_type": "code",
   "execution_count": 86,
   "id": "4012bb26-dfb9-45ad-b5e1-1607ff31d966",
   "metadata": {},
   "outputs": [
    {
     "data": {
      "text/plain": [
       "'/Users/rodolfo.lobo/Desktop/PYTHON/clase_2'"
      ]
     },
     "execution_count": 86,
     "metadata": {},
     "output_type": "execute_result"
    }
   ],
   "source": [
    "pwd"
   ]
  },
  {
   "cell_type": "code",
   "execution_count": 87,
   "id": "fd3b0a66-c691-4f97-ad37-7634e8a1704f",
   "metadata": {},
   "outputs": [],
   "source": [
    "path = os.getcwd()"
   ]
  },
  {
   "cell_type": "code",
   "execution_count": 88,
   "id": "017faaff-6841-49dd-b59c-026b615fb64b",
   "metadata": {},
   "outputs": [
    {
     "data": {
      "text/plain": [
       "'/Users/rodolfo.lobo/Desktop/PYTHON/clase_2'"
      ]
     },
     "execution_count": 88,
     "metadata": {},
     "output_type": "execute_result"
    }
   ],
   "source": [
    "path"
   ]
  },
  {
   "cell_type": "code",
   "execution_count": 99,
   "id": "dad45dfb-bc85-4a76-b363-eb9f2c339123",
   "metadata": {},
   "outputs": [],
   "source": [
    "directory_files = '/OneDrive-2022-01-29/'"
   ]
  },
  {
   "cell_type": "code",
   "execution_count": 100,
   "id": "a1e2e63f-9eb9-453e-9b7f-ea6ba3bb2c1a",
   "metadata": {},
   "outputs": [
    {
     "data": {
      "text/plain": [
       "'/Users/rodolfo.lobo/Desktop/PYTHON/clase_2/OneDrive-2022-01-29/'"
      ]
     },
     "execution_count": 100,
     "metadata": {},
     "output_type": "execute_result"
    }
   ],
   "source": [
    "path+directory_files"
   ]
  },
  {
   "cell_type": "code",
   "execution_count": 94,
   "id": "03f87c41-9dfb-40c6-a0ce-7c50af1126f0",
   "metadata": {},
   "outputs": [],
   "source": [
    "import time"
   ]
  },
  {
   "cell_type": "code",
   "execution_count": 153,
   "id": "7715010d-0a6d-4cd6-832b-7c799d123627",
   "metadata": {},
   "outputs": [
    {
     "name": "stdout",
     "output_type": "stream",
     "text": [
      "HN-1221-TVK.xlsm\n"
     ]
    },
    {
     "name": "stderr",
     "output_type": "stream",
     "text": [
      "/Users/rodolfo.lobo/opt/anaconda3/lib/python3.8/site-packages/openpyxl/worksheet/_reader.py:312: UserWarning: Data Validation extension is not supported and will be removed\n",
      "  warn(msg)\n"
     ]
    },
    {
     "name": "stdout",
     "output_type": "stream",
     "text": [
      "Total Number of XLSM Files\n",
      "1\n",
      "--- Data loaded. Loading time: 0.33783984184265137 seconds ---\n",
      "HN-1221-CHP.xlsm\n",
      "Total Number of XLSM Files\n",
      "2\n",
      "--- Data loaded. Loading time: 0.6060769557952881 seconds ---\n",
      "HN-1221-DMA.xlsm\n",
      "Total Number of XLSM Files\n",
      "3\n",
      "--- Data loaded. Loading time: 0.8970499038696289 seconds ---\n",
      "HN-1221-JVG.XLSM\n",
      "Total Number of XLSM Files\n",
      "4\n",
      "--- Data loaded. Loading time: 1.1855909824371338 seconds ---\n",
      "HN-1221-FBC.XLSM\n",
      "Total Number of XLSM Files\n",
      "5\n",
      "--- Data loaded. Loading time: 1.4673609733581543 seconds ---\n",
      "HN-1221-CRH.xlsm\n",
      "Total Number of XLSM Files\n",
      "6\n",
      "--- Data loaded. Loading time: 1.7132251262664795 seconds ---\n",
      "HN-1221-SLF.xlsm\n",
      "Total Number of XLSM Files\n",
      "7\n",
      "--- Data loaded. Loading time: 2.037569046020508 seconds ---\n",
      "HN-1221-COL.XLSM\n",
      "Total Number of XLSM Files\n",
      "8\n",
      "--- Data loaded. Loading time: 2.2953250408172607 seconds ---\n",
      "HN-1221-CAV.xlsm\n",
      "Total Number of XLSM Files\n",
      "9\n",
      "--- Data loaded. Loading time: 2.6098251342773438 seconds ---\n",
      "HN-1221-JGM.xlsm\n",
      "Total Number of XLSM Files\n",
      "10\n",
      "--- Data loaded. Loading time: 2.8797688484191895 seconds ---\n",
      "HN-1221-EAE.XLSM\n",
      "Total Number of XLSM Files\n",
      "11\n",
      "--- Data loaded. Loading time: 3.157365083694458 seconds ---\n"
     ]
    }
   ],
   "source": [
    "count = 0\n",
    "column_names = [\"fecha\",\"horas\",\"cod\",\"nombre\"]\n",
    "archivos = list()\n",
    "\n",
    "start_time = time.time()\n",
    "\n",
    "for subdir, dirs, files in os.walk(path+directory_files):\n",
    "    for file in files:\n",
    "        count += 1\n",
    "        try:\n",
    "            print(file)\n",
    "            df = pd.read_excel(path+directory_files+file, sheet_name = None)\n",
    "            tabla = df['HH'].iloc[10:149,1:5]\n",
    "            tabla.columns = column_names\n",
    "            tabla = tabla.reset_index(drop=True)\n",
    "\n",
    "            archivos.append(tabla)\n",
    "\n",
    "    ## If the file is not valid, skip it\n",
    "        except ValueError:\n",
    "            continue\n",
    "            \n",
    "        print(\"Total Number of XLSM Files\")\n",
    "        print(count)\n",
    "        print(\"--- Data loaded. Loading time: %s seconds ---\" % (time.time() - start_time))\n",
    "        "
   ]
  },
  {
   "cell_type": "code",
   "execution_count": 154,
   "id": "0c4e16d6-7066-449a-b75f-7636a767db30",
   "metadata": {},
   "outputs": [
    {
     "data": {
      "text/html": [
       "<div>\n",
       "<style scoped>\n",
       "    .dataframe tbody tr th:only-of-type {\n",
       "        vertical-align: middle;\n",
       "    }\n",
       "\n",
       "    .dataframe tbody tr th {\n",
       "        vertical-align: top;\n",
       "    }\n",
       "\n",
       "    .dataframe thead th {\n",
       "        text-align: right;\n",
       "    }\n",
       "</style>\n",
       "<table border=\"1\" class=\"dataframe\">\n",
       "  <thead>\n",
       "    <tr style=\"text-align: right;\">\n",
       "      <th></th>\n",
       "      <th>fecha</th>\n",
       "      <th>horas</th>\n",
       "      <th>cod</th>\n",
       "      <th>nombre</th>\n",
       "    </tr>\n",
       "  </thead>\n",
       "  <tbody>\n",
       "    <tr>\n",
       "      <th>0</th>\n",
       "      <td>2021-11-22 00:00:00</td>\n",
       "      <td>3.5</td>\n",
       "      <td>6305</td>\n",
       "      <td>EDIFICIO MATILDE SALAMANCA</td>\n",
       "    </tr>\n",
       "    <tr>\n",
       "      <th>1</th>\n",
       "      <td>NaN</td>\n",
       "      <td>1</td>\n",
       "      <td>9020003</td>\n",
       "      <td>DESARROLLO INTERNO</td>\n",
       "    </tr>\n",
       "    <tr>\n",
       "      <th>2</th>\n",
       "      <td>NaN</td>\n",
       "      <td>2.5</td>\n",
       "      <td>6305</td>\n",
       "      <td>EDIFICIO MATILDE SALAMANCA</td>\n",
       "    </tr>\n",
       "    <tr>\n",
       "      <th>3</th>\n",
       "      <td>NaN</td>\n",
       "      <td>2</td>\n",
       "      <td>9020003</td>\n",
       "      <td>DESARROLLO INTERNO</td>\n",
       "    </tr>\n",
       "    <tr>\n",
       "      <th>4</th>\n",
       "      <td>2021-11-23 00:00:00</td>\n",
       "      <td>4.5</td>\n",
       "      <td>1021065</td>\n",
       "      <td>Edificio O´Brien 2845</td>\n",
       "    </tr>\n",
       "    <tr>\n",
       "      <th>...</th>\n",
       "      <td>...</td>\n",
       "      <td>...</td>\n",
       "      <td>...</td>\n",
       "      <td>...</td>\n",
       "    </tr>\n",
       "    <tr>\n",
       "      <th>134</th>\n",
       "      <td>NaN</td>\n",
       "      <td>NaN</td>\n",
       "      <td>NaN</td>\n",
       "      <td></td>\n",
       "    </tr>\n",
       "    <tr>\n",
       "      <th>135</th>\n",
       "      <td>NaN</td>\n",
       "      <td>NaN</td>\n",
       "      <td>NaN</td>\n",
       "      <td></td>\n",
       "    </tr>\n",
       "    <tr>\n",
       "      <th>136</th>\n",
       "      <td>NaN</td>\n",
       "      <td>NaN</td>\n",
       "      <td>NaN</td>\n",
       "      <td></td>\n",
       "    </tr>\n",
       "    <tr>\n",
       "      <th>137</th>\n",
       "      <td>NaN</td>\n",
       "      <td>NaN</td>\n",
       "      <td>NaN</td>\n",
       "      <td></td>\n",
       "    </tr>\n",
       "    <tr>\n",
       "      <th>138</th>\n",
       "      <td>NaN</td>\n",
       "      <td>NaN</td>\n",
       "      <td>NaN</td>\n",
       "      <td></td>\n",
       "    </tr>\n",
       "  </tbody>\n",
       "</table>\n",
       "<p>139 rows × 4 columns</p>\n",
       "</div>"
      ],
      "text/plain": [
       "                   fecha horas      cod                      nombre\n",
       "0    2021-11-22 00:00:00   3.5     6305  EDIFICIO MATILDE SALAMANCA\n",
       "1                    NaN     1  9020003          DESARROLLO INTERNO\n",
       "2                    NaN   2.5     6305  EDIFICIO MATILDE SALAMANCA\n",
       "3                    NaN     2  9020003          DESARROLLO INTERNO\n",
       "4    2021-11-23 00:00:00   4.5  1021065       Edificio O´Brien 2845\n",
       "..                   ...   ...      ...                         ...\n",
       "134                  NaN   NaN      NaN                            \n",
       "135                  NaN   NaN      NaN                            \n",
       "136                  NaN   NaN      NaN                            \n",
       "137                  NaN   NaN      NaN                            \n",
       "138                  NaN   NaN      NaN                            \n",
       "\n",
       "[139 rows x 4 columns]"
      ]
     },
     "execution_count": 154,
     "metadata": {},
     "output_type": "execute_result"
    }
   ],
   "source": [
    "archivos[5]"
   ]
  },
  {
   "cell_type": "markdown",
   "id": "4df2c527-e4fc-4eed-8f56-fd0f0b9412d3",
   "metadata": {},
   "source": [
    "### Resolviendo la primera parte!"
   ]
  },
  {
   "cell_type": "code",
   "execution_count": 155,
   "id": "ca5d4a4f-1a31-40c7-8bff-d8f671ed5ec8",
   "metadata": {},
   "outputs": [],
   "source": [
    "cristian = archivos[5]"
   ]
  },
  {
   "cell_type": "code",
   "execution_count": 156,
   "id": "59ef3a91-8c7b-4446-884e-996740aaa300",
   "metadata": {},
   "outputs": [
    {
     "data": {
      "text/plain": [
       "True"
      ]
     },
     "execution_count": 156,
     "metadata": {},
     "output_type": "execute_result"
    }
   ],
   "source": [
    "pd.isna(cristian.fecha.iloc[1])"
   ]
  },
  {
   "cell_type": "code",
   "execution_count": 157,
   "id": "6563f7a2-1609-4f4e-beb0-4b62c6182f8d",
   "metadata": {},
   "outputs": [
    {
     "data": {
      "text/plain": [
       "datetime.datetime(2021, 11, 22, 0, 0)"
      ]
     },
     "execution_count": 157,
     "metadata": {},
     "output_type": "execute_result"
    }
   ],
   "source": [
    "cristian.fecha.iloc[0]"
   ]
  },
  {
   "cell_type": "code",
   "execution_count": 225,
   "id": "f8e10bd2-0d60-4665-a47e-ac4445f80402",
   "metadata": {},
   "outputs": [
    {
     "data": {
      "text/html": [
       "<div>\n",
       "<style scoped>\n",
       "    .dataframe tbody tr th:only-of-type {\n",
       "        vertical-align: middle;\n",
       "    }\n",
       "\n",
       "    .dataframe tbody tr th {\n",
       "        vertical-align: top;\n",
       "    }\n",
       "\n",
       "    .dataframe thead th {\n",
       "        text-align: right;\n",
       "    }\n",
       "</style>\n",
       "<table border=\"1\" class=\"dataframe\">\n",
       "  <thead>\n",
       "    <tr style=\"text-align: right;\">\n",
       "      <th></th>\n",
       "      <th>fecha</th>\n",
       "      <th>horas</th>\n",
       "      <th>cod</th>\n",
       "      <th>nombre</th>\n",
       "    </tr>\n",
       "  </thead>\n",
       "  <tbody>\n",
       "    <tr>\n",
       "      <th>0</th>\n",
       "      <td>2021-11-22 00:00:00</td>\n",
       "      <td>3.5</td>\n",
       "      <td>6305</td>\n",
       "      <td>EDIFICIO MATILDE SALAMANCA</td>\n",
       "    </tr>\n",
       "    <tr>\n",
       "      <th>1</th>\n",
       "      <td>NaN</td>\n",
       "      <td>1</td>\n",
       "      <td>9020003</td>\n",
       "      <td>DESARROLLO INTERNO</td>\n",
       "    </tr>\n",
       "    <tr>\n",
       "      <th>2</th>\n",
       "      <td>NaN</td>\n",
       "      <td>2.5</td>\n",
       "      <td>6305</td>\n",
       "      <td>EDIFICIO MATILDE SALAMANCA</td>\n",
       "    </tr>\n",
       "    <tr>\n",
       "      <th>3</th>\n",
       "      <td>NaN</td>\n",
       "      <td>2</td>\n",
       "      <td>9020003</td>\n",
       "      <td>DESARROLLO INTERNO</td>\n",
       "    </tr>\n",
       "    <tr>\n",
       "      <th>4</th>\n",
       "      <td>2021-11-23 00:00:00</td>\n",
       "      <td>4.5</td>\n",
       "      <td>1021065</td>\n",
       "      <td>Edificio O´Brien 2845</td>\n",
       "    </tr>\n",
       "    <tr>\n",
       "      <th>5</th>\n",
       "      <td>NaN</td>\n",
       "      <td>2.5</td>\n",
       "      <td>1021065</td>\n",
       "      <td>Edificio O´Brien 2845</td>\n",
       "    </tr>\n",
       "    <tr>\n",
       "      <th>6</th>\n",
       "      <td>NaN</td>\n",
       "      <td>2</td>\n",
       "      <td>9020003</td>\n",
       "      <td>DESARROLLO INTERNO</td>\n",
       "    </tr>\n",
       "    <tr>\n",
       "      <th>7</th>\n",
       "      <td>2021-11-24 00:00:00</td>\n",
       "      <td>3</td>\n",
       "      <td>6305</td>\n",
       "      <td>EDIFICIO MATILDE SALAMANCA</td>\n",
       "    </tr>\n",
       "    <tr>\n",
       "      <th>8</th>\n",
       "      <td>NaN</td>\n",
       "      <td>1.5</td>\n",
       "      <td>6305</td>\n",
       "      <td>EDIFICIO MATILDE SALAMANCA</td>\n",
       "    </tr>\n",
       "    <tr>\n",
       "      <th>9</th>\n",
       "      <td>NaN</td>\n",
       "      <td>4.5</td>\n",
       "      <td>6305</td>\n",
       "      <td>EDIFICIO MATILDE SALAMANCA</td>\n",
       "    </tr>\n",
       "  </tbody>\n",
       "</table>\n",
       "</div>"
      ],
      "text/plain": [
       "                 fecha horas      cod                      nombre\n",
       "0  2021-11-22 00:00:00   3.5     6305  EDIFICIO MATILDE SALAMANCA\n",
       "1                  NaN     1  9020003          DESARROLLO INTERNO\n",
       "2                  NaN   2.5     6305  EDIFICIO MATILDE SALAMANCA\n",
       "3                  NaN     2  9020003          DESARROLLO INTERNO\n",
       "4  2021-11-23 00:00:00   4.5  1021065       Edificio O´Brien 2845\n",
       "5                  NaN   2.5  1021065       Edificio O´Brien 2845\n",
       "6                  NaN     2  9020003          DESARROLLO INTERNO\n",
       "7  2021-11-24 00:00:00     3     6305  EDIFICIO MATILDE SALAMANCA\n",
       "8                  NaN   1.5     6305  EDIFICIO MATILDE SALAMANCA\n",
       "9                  NaN   4.5     6305  EDIFICIO MATILDE SALAMANCA"
      ]
     },
     "execution_count": 225,
     "metadata": {},
     "output_type": "execute_result"
    }
   ],
   "source": [
    "cristian.iloc[:10,:]"
   ]
  },
  {
   "cell_type": "markdown",
   "id": "35c327d7-37a2-495d-958e-63468f960f35",
   "metadata": {},
   "source": [
    "# Resolviendo el problema"
   ]
  },
  {
   "cell_type": "code",
   "execution_count": 228,
   "id": "f408b8ff-2486-4369-9021-5ab7bcc336f8",
   "metadata": {},
   "outputs": [],
   "source": [
    "dict_day = pd.DataFrame.to_dict(codigos)['codigos']\n",
    "dict_total = pd.DataFrame.to_dict(codigos)['codigos']"
   ]
  },
  {
   "cell_type": "code",
   "execution_count": 183,
   "id": "8dfd0ea8-0f66-4f77-858c-677b2833b614",
   "metadata": {},
   "outputs": [
    {
     "name": "stdout",
     "output_type": "stream",
     "text": [
      "(datetime.datetime(2021, 11, 22, 0, 0), 0)\n",
      "(datetime.datetime(2021, 11, 23, 0, 0), 4)\n",
      "(datetime.datetime(2021, 11, 24, 0, 0), 7)\n",
      "(datetime.datetime(2021, 11, 25, 0, 0), 10)\n",
      "(datetime.datetime(2021, 11, 26, 0, 0), 12)\n",
      "(datetime.datetime(2021, 11, 29, 0, 0), 14)\n",
      "(datetime.datetime(2021, 11, 30, 0, 0), 17)\n",
      "(datetime.datetime(2021, 12, 1, 0, 0), 20)\n",
      "(datetime.datetime(2021, 12, 2, 0, 0), 22)\n",
      "(datetime.datetime(2021, 12, 3, 0, 0), 24)\n",
      "(datetime.datetime(2021, 12, 6, 0, 0), 26)\n",
      "(datetime.datetime(2021, 12, 7, 0, 0), 28)\n",
      "(datetime.datetime(2021, 12, 9, 0, 0), 30)\n",
      "(datetime.datetime(2021, 12, 10, 0, 0), 31)\n",
      "(datetime.datetime(2021, 12, 13, 0, 0), 32)\n",
      "(datetime.datetime(2021, 12, 14, 0, 0), 33)\n",
      "(datetime.datetime(2021, 12, 15, 0, 0), 35)\n",
      "(datetime.datetime(2021, 12, 16, 0, 0), 37)\n",
      "(datetime.datetime(2021, 12, 17, 0, 0), 39)\n",
      "(datetime.datetime(2021, 12, 20, 0, 0), 41)\n",
      "(datetime.datetime(2021, 12, 21, 0, 0), 42)\n",
      "(datetime.datetime(2021, 12, 22, 0, 0), 44)\n",
      "(datetime.datetime(2021, 12, 23, 0, 0), 46)\n",
      "(datetime.datetime(2021, 12, 24, 0, 0), 48)\n"
     ]
    }
   ],
   "source": [
    "i = 0\n",
    "rangos_de_tiempo = list()\n",
    "##### tener los tiempos ######\n",
    "for dia in cristian.fecha:\n",
    "    \n",
    "    if not pd.isna(dia):\n",
    "        print((dia,i))\n",
    "        rangos_de_tiempo.append(i)\n",
    "    i += 1\n",
    "###############################"
   ]
  },
  {
   "cell_type": "markdown",
   "id": "5da13e1c-aa88-40a9-b9b9-5a8d45809804",
   "metadata": {},
   "source": [
    "### parte pajera!: capturar en que filas anoto un dia. "
   ]
  },
  {
   "cell_type": "code",
   "execution_count": 263,
   "id": "448ffa9e-4e3d-406e-bc83-d5de123a30b9",
   "metadata": {},
   "outputs": [],
   "source": [
    "# partida\n",
    "lim_inf = 0\n",
    "lim_sup = 2\n",
    "\n",
    "dict_cod = {}\n",
    "#for i in range(1,codigos.shape[0]):\n",
    "#    dict_cod[str(codigos[\"Unnamed: 1\"].iloc[i])] = 0\n",
    "\n",
    "horas_dia = []\n",
    "\n",
    "for i in range(len(rangos_de_tiempo)-1):\n",
    "    \n",
    "    # agarro el intervalo\n",
    "    intervalo = rangos_de_tiempo[lim_inf:lim_sup]º\n",
    "    \n",
    "    # me adelanto para la modificacion del intervalo en la siguiente iteracion\n",
    "    lim_inf = i + 1\n",
    "    lim_sup = i + 3\n",
    "\n",
    "    for j in range(intervalo[0],intervalo[1]):\n",
    "        \n",
    "        dict_cod[str(cristian.cod.iloc[j])] =+ cristian.horas.iloc[j]\n",
    "    horas_dia.append(dict_cod)"
   ]
  },
  {
   "cell_type": "code",
   "execution_count": 264,
   "id": "05f77bb0-1b86-4eae-b447-c4e1503f5a9a",
   "metadata": {},
   "outputs": [
    {
     "name": "stdout",
     "output_type": "stream",
     "text": [
      "Total de dias\n",
      "23\n"
     ]
    }
   ],
   "source": [
    "print(\"Total de dias\")\n",
    "print(len(horas_dia))"
   ]
  },
  {
   "cell_type": "code",
   "execution_count": 265,
   "id": "a20c386b-89d1-4b55-a733-229cf509e100",
   "metadata": {},
   "outputs": [
    {
     "data": {
      "text/plain": [
       "{'6305': 4.5,\n",
       " '9020003': 3,\n",
       " '1021065': 2.5,\n",
       " '6313': 4.5,\n",
       " '4019': 4.5,\n",
       " '1021019': 4.5,\n",
       " '9020001': 9,\n",
       " '2021035': 4.5}"
      ]
     },
     "execution_count": 265,
     "metadata": {},
     "output_type": "execute_result"
    }
   ],
   "source": [
    "horas_dia[0]"
   ]
  }
 ],
 "metadata": {
  "kernelspec": {
   "display_name": "Python 3",
   "language": "python",
   "name": "python3"
  },
  "language_info": {
   "codemirror_mode": {
    "name": "ipython",
    "version": 3
   },
   "file_extension": ".py",
   "mimetype": "text/x-python",
   "name": "python",
   "nbconvert_exporter": "python",
   "pygments_lexer": "ipython3",
   "version": "3.8.8"
  }
 },
 "nbformat": 4,
 "nbformat_minor": 5
}
